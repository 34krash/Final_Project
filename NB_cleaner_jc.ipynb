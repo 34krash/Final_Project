{
 "cells": [
  {
   "cell_type": "code",
   "execution_count": 1,
   "metadata": {},
   "outputs": [],
   "source": [
    "import pandas as pd"
   ]
  },
  {
   "cell_type": "code",
   "execution_count": 21,
   "metadata": {},
   "outputs": [],
   "source": [
    "df_2020 = pd.read_csv(\"Final_Data/World_Happiness_2020.csv\")\n",
    "country_names = df_2020['Country name']"
   ]
  },
  {
   "cell_type": "code",
   "execution_count": 23,
   "metadata": {},
   "outputs": [
    {
     "data": {
      "text/plain": [
       "0      Albania\n",
       "1      Algeria\n",
       "2       Angola\n",
       "3    Argentina\n",
       "4      Armenia\n",
       "Name: Country, dtype: object"
      ]
     },
     "execution_count": 23,
     "metadata": {},
     "output_type": "execute_result"
    }
   ],
   "source": [
    "temp = pd.read_csv(\"Clean_Data/Freedom_Index_08-17.csv\")\n",
    "temp_country_names = temp['Country']\n",
    "temp_country_names.head()"
   ]
  },
  {
   "cell_type": "code",
   "execution_count": 19,
   "metadata": {},
   "outputs": [
    {
     "name": "stdout",
     "output_type": "stream",
     "text": [
      "In 2020 but not temp:  ['Cyprus', 'Taiwan Province of China', 'Swaziland']\n"
     ]
    }
   ],
   "source": [
    "def get_difference(list_a, list_b):\n",
    "    return set(list_a)-set(list_b)\n",
    " \n",
    "non_match = list(get_difference(country_names, temp_country_names))\n",
    "print(\"In 2020 but not temp: \", non_match)"
   ]
  },
  {
   "cell_type": "code",
   "execution_count": 20,
   "metadata": {},
   "outputs": [
    {
     "name": "stdout",
     "output_type": "stream",
     "text": [
      "In temp by not 2020:  ['American Samoa', 'Guam', 'Bermuda', 'Upper middle income', 'Andorra', 'Qatar', 'North America', 'Europe & Central Asia (excluding high income)', 'Seychelles', 'Palau', 'Europe & Central Asia (IDA & IBRD countries)', 'Cayman Islands', 'Sao Tome and Principe', 'Faroe Islands', 'Samoa', 'Curacao', 'Latin America & Caribbean (excluding high income)', 'French Polynesia', 'Barbados', 'Heavily indebted poor countries (HIPC)', 'Small states', 'St. Lucia', 'Sudan', 'Eritrea', 'European Union', 'Fiji', 'Late-demographic dividend', 'Central Europe and the Baltics', 'St. Vincent and the Grenadines', 'Guyana', 'Euro area', 'St. Martin (French part)', 'Nauru', 'Sub-Saharan Africa', 'IDA total', 'Middle East & North Africa', 'Greenland', 'Virgin Islands (U.S.)', 'Latin America & Caribbean', 'Marshall Islands', 'Kiribati', 'Puerto Rico', 'World', 'Grenada', 'Cuba', 'Sint Maarten (Dutch part)', 'Caribbean small states', 'Sub-Saharan Africa (excluding high income)', 'Aruba', 'Gibraltar', 'Northern Mariana Islands', 'Macao SAR, China', 'Low income', 'Suriname', 'St. Kitts and Nevis', 'South Asia (IDA & IBRD)', 'Syrian Arab Republic', 'Belize', 'Lower middle income', 'East Asia & Pacific (excluding high income)', 'Micronesia, Fed. Sts.', 'Liechtenstein', 'Not classified', 'Middle income', 'South Asia', 'Low & middle income', 'High income', 'Europe & Central Asia', 'Guinea-Bissau', 'San Marino', 'Antigua and Barbuda', 'Dominica', 'Pre-demographic dividend', 'Post-demographic dividend', 'Least developed countries: UN classification', 'Arab World', 'IDA blend', 'IDA & IBRD total', 'Somalia', 'Turks and Caicos Islands', 'Bahamas, The', 'Korea, Dem. People’s Rep.', 'Solomon Islands', 'Middle East & North Africa (IDA & IBRD countries)', 'Oman', 'Pacific island small states', 'Early-demographic dividend', 'Timor-Leste', 'Bhutan', 'East Asia & Pacific', 'Tuvalu', 'Channel Islands', 'Latin America & the Caribbean (IDA & IBRD countries)', 'Fragile and conflict affected situations', 'Cabo Verde', 'IBRD only', 'Tonga', 'Monaco', 'Sub-Saharan Africa (IDA & IBRD countries)', 'Middle East & North Africa (excluding high income)', 'Equatorial Guinea', 'IDA only', 'British Virgin Islands', 'Vanuatu']\n"
     ]
    }
   ],
   "source": [
    "def get_difference(list_a, list_b):\n",
    "    return set(list_b)-set(list_a)\n",
    " \n",
    "non_match = list(get_difference(country_names, temp_country_names))\n",
    "print(\"In temp by not 2020: \", non_match)"
   ]
  },
  {
   "cell_type": "code",
   "execution_count": null,
   "metadata": {},
   "outputs": [],
   "source": []
  },
  {
   "cell_type": "code",
   "execution_count": 74,
   "metadata": {},
   "outputs": [
    {
     "name": "stdout",
     "output_type": "stream",
     "text": [
      "Country name                                    Maldives\n",
      "Regional indicator                            South Asia\n",
      "Ladder score                                      5.1976\n",
      "Standard error of ladder score                 0.0719854\n",
      "upperwhisker                                     5.33869\n",
      "lowerwhisker                                     5.05651\n",
      "Logged GDP per capita                            9.51863\n",
      "Social support                                  0.913161\n",
      "Healthy life expectancy                             70.6\n",
      "Freedom to make life choices                    0.853963\n",
      "Generosity                                     0.0380855\n",
      "Perceptions of corruption                       0.824211\n",
      "Ladder score in Dystopia                         1.97232\n",
      "Explained by: Log GDP per capita                0.937864\n",
      "Explained by: Social support                     1.40229\n",
      "Explained by: Healthy life expectancy            0.91444\n",
      "Explained by: Freedom to make life choices      0.548204\n",
      "Explained by: Generosity                        0.224198\n",
      "Explained by: Perceptions of corruption        0.0719065\n",
      "Dystopia + residual                              1.09867\n",
      "Name: 86, dtype: object\n"
     ]
    }
   ],
   "source": [
    "for index, row in df_2020.iterrows():\n",
    "    if row['Country name'] == 'Maldives':\n",
    "        print(row)"
   ]
  },
  {
   "cell_type": "code",
   "execution_count": null,
   "metadata": {},
   "outputs": [],
   "source": []
  }
 ],
 "metadata": {
  "kernelspec": {
   "display_name": "Python 3",
   "language": "python",
   "name": "python3"
  },
  "language_info": {
   "codemirror_mode": {
    "name": "ipython",
    "version": 3
   },
   "file_extension": ".py",
   "mimetype": "text/x-python",
   "name": "python",
   "nbconvert_exporter": "python",
   "pygments_lexer": "ipython3",
   "version": "3.8.3"
  }
 },
 "nbformat": 4,
 "nbformat_minor": 4
}
