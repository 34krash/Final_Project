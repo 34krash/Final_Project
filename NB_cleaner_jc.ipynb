{
 "cells": [
  {
   "cell_type": "code",
   "execution_count": 56,
   "metadata": {},
   "outputs": [],
   "source": [
    "import pandas as pd"
   ]
  },
  {
   "cell_type": "code",
   "execution_count": 83,
   "metadata": {},
   "outputs": [],
   "source": [
    "df_2020 = pd.read_csv(\"Final_Data/World_Happiness_2020.csv\")\n",
    "country_names = df_2020['Country name']"
   ]
  },
  {
   "cell_type": "code",
   "execution_count": 84,
   "metadata": {},
   "outputs": [
    {
     "data": {
      "text/plain": [
       "0          Aruba\n",
       "1    Afghanistan\n",
       "2        Albania\n",
       "3        Andorra\n",
       "4     Arab World\n",
       "Name: Country, dtype: object"
      ]
     },
     "execution_count": 84,
     "metadata": {},
     "output_type": "execute_result"
    }
   ],
   "source": [
    "temp = pd.read_csv(\"Final_Data/Military_Size.csv\")\n",
    "temp_country_names = temp['Country']\n",
    "temp_country_names.head()"
   ]
  },
  {
   "cell_type": "code",
   "execution_count": 85,
   "metadata": {},
   "outputs": [
    {
     "name": "stdout",
     "output_type": "stream",
     "text": [
      "In 2020 but not temp:  ['Taiwan Province of China', 'Cyprus', 'Swaziland', 'Laos']\n"
     ]
    }
   ],
   "source": [
    "def get_difference(list_a, list_b):\n",
    "    return set(list_a)-set(list_b)\n",
    " \n",
    "non_match = list(get_difference(country_names, temp_country_names))\n",
    "print(\"In 2020 but not temp: \", non_match)"
   ]
  },
  {
   "cell_type": "code",
   "execution_count": 86,
   "metadata": {},
   "outputs": [
    {
     "name": "stdout",
     "output_type": "stream",
     "text": [
      "In temp by not 2020:  ['East Asia & Pacific', 'Bermuda', 'East Asia & Pacific (excluding high income)', 'Timor-Leste', 'Lao PDR', 'Turks and Caicos Islands', 'Least developed countries: UN classification', 'South Asia', 'Fragile and conflict affected situations', 'Barbados', 'Sub-Saharan Africa (excluding high income)', 'Tuvalu', 'St. Lucia', 'Small states', 'North America', 'French Polynesia', 'IDA only', 'Cayman Islands', 'Aruba', 'British Virgin Islands', 'Middle East & North Africa (excluding high income)', 'Liechtenstein', 'Micronesia, Fed. Sts.', 'Korea, Dem. People’s Rep.', 'Northern Mariana Islands', 'Latin America & Caribbean', 'IDA blend', 'Pre-demographic dividend', 'Andorra', 'World', 'Faroe Islands', 'Sub-Saharan Africa (IDA & IBRD countries)', 'Low income', 'Puerto Rico', 'Late-demographic dividend', 'Channel Islands', 'Bhutan', 'St. Vincent and the Grenadines', 'European Union', 'Palau', 'Arab World', 'Antigua and Barbuda', 'St. Martin (French part)', 'Belize', 'Sudan', 'San Marino', 'Guyana', 'Europe & Central Asia (IDA & IBRD countries)', 'Bahamas, The', 'South Asia (IDA & IBRD)', 'Euro area', 'High income', 'American Samoa', 'Gibraltar', 'Qatar', 'Upper middle income', 'Monaco', 'Vanuatu', 'IDA & IBRD total', 'Low & middle income', 'Fiji', 'Lower middle income', 'Suriname', 'Guam', 'Guinea-Bissau', 'Cuba', 'Tonga', 'Greenland', 'Not classified', 'Kiribati', 'Equatorial Guinea', 'Dominica', 'Pacific island small states', 'Virgin Islands (U.S.)', 'Middle East & North Africa', 'Sub-Saharan Africa', 'Europe & Central Asia', 'Heavily indebted poor countries (HIPC)', 'Central Europe and the Baltics', 'Sint Maarten (Dutch part)', 'Macao SAR, China', 'Early-demographic dividend', 'Sao Tome and Principe', 'Nauru', 'Middle income', 'Solomon Islands', 'Cabo Verde', 'Somalia', 'Post-demographic dividend', 'Europe & Central Asia (excluding high income)', 'Latin America & Caribbean (excluding high income)', 'IDA total', 'Eritrea', 'Oman', 'Marshall Islands', 'St. Kitts and Nevis', 'Seychelles', 'Curacao', 'Latin America & the Caribbean (IDA & IBRD countries)', 'Grenada', 'Middle East & North Africa (IDA & IBRD countries)', 'Syrian Arab Republic', 'Caribbean small states', 'IBRD only', 'Samoa']\n"
     ]
    }
   ],
   "source": [
    "def get_difference(list_a, list_b):\n",
    "    return set(list_b)-set(list_a)\n",
    " \n",
    "non_match = list(get_difference(country_names, temp_country_names))\n",
    "print(\"In temp by not 2020: \", non_match)"
   ]
  },
  {
   "cell_type": "code",
   "execution_count": 41,
   "metadata": {},
   "outputs": [
    {
     "data": {
      "text/plain": [
       "153"
      ]
     },
     "execution_count": 41,
     "metadata": {},
     "output_type": "execute_result"
    }
   ],
   "source": [
    "df_2020.shape[0]"
   ]
  },
  {
   "cell_type": "code",
   "execution_count": 70,
   "metadata": {},
   "outputs": [
    {
     "data": {
      "text/plain": [
       "254"
      ]
     },
     "execution_count": 70,
     "metadata": {},
     "output_type": "execute_result"
    }
   ],
   "source": [
    "temp.shape[0]"
   ]
  },
  {
   "cell_type": "code",
   "execution_count": null,
   "metadata": {},
   "outputs": [],
   "source": []
  },
  {
   "cell_type": "code",
   "execution_count": 74,
   "metadata": {},
   "outputs": [
    {
     "name": "stdout",
     "output_type": "stream",
     "text": [
      "Country name                                    Maldives\n",
      "Regional indicator                            South Asia\n",
      "Ladder score                                      5.1976\n",
      "Standard error of ladder score                 0.0719854\n",
      "upperwhisker                                     5.33869\n",
      "lowerwhisker                                     5.05651\n",
      "Logged GDP per capita                            9.51863\n",
      "Social support                                  0.913161\n",
      "Healthy life expectancy                             70.6\n",
      "Freedom to make life choices                    0.853963\n",
      "Generosity                                     0.0380855\n",
      "Perceptions of corruption                       0.824211\n",
      "Ladder score in Dystopia                         1.97232\n",
      "Explained by: Log GDP per capita                0.937864\n",
      "Explained by: Social support                     1.40229\n",
      "Explained by: Healthy life expectancy            0.91444\n",
      "Explained by: Freedom to make life choices      0.548204\n",
      "Explained by: Generosity                        0.224198\n",
      "Explained by: Perceptions of corruption        0.0719065\n",
      "Dystopia + residual                              1.09867\n",
      "Name: 86, dtype: object\n"
     ]
    }
   ],
   "source": [
    "for index, row in df_2020.iterrows():\n",
    "    if row['Country name'] == 'Maldives':\n",
    "        print(row)"
   ]
  },
  {
   "cell_type": "code",
   "execution_count": null,
   "metadata": {},
   "outputs": [],
   "source": []
  }
 ],
 "metadata": {
  "kernelspec": {
   "display_name": "Python 3",
   "language": "python",
   "name": "python3"
  },
  "language_info": {
   "codemirror_mode": {
    "name": "ipython",
    "version": 3
   },
   "file_extension": ".py",
   "mimetype": "text/x-python",
   "name": "python",
   "nbconvert_exporter": "python",
   "pygments_lexer": "ipython3",
   "version": "3.8.3"
  }
 },
 "nbformat": 4,
 "nbformat_minor": 4
}
