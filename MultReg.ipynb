{
 "cells": [
  {
   "cell_type": "code",
   "execution_count": 136,
   "metadata": {},
   "outputs": [],
   "source": [
    "%matplotlib inline\n",
    "import matplotlib.pyplot as plt\n",
    "import numpy as np\n",
    "import pandas as pd\n",
    "from sklearn.datasets import make_regression\n",
    "from sklearn.model_selection import train_test_split\n",
    "from sklearn.linear_model import LinearRegression\n",
    "from mpl_toolkits.mplot3d import Axes3D\n",
    "from sklearn.metrics import mean_squared_error\n",
    "\n"
   ]
  },
  {
   "cell_type": "code",
   "execution_count": 137,
   "metadata": {
    "scrolled": true
   },
   "outputs": [],
   "source": [
    "# Import all CSVs\n",
    "\n",
    "WH20 = pd.read_csv('Clean_Data/World_Happiness_2020.csv')\n",
    "\n",
    "WH19 = pd.read_csv('Clean_Data/World_Happiness_2019.csv')\n",
    "\n",
    "WH18 = pd.read_csv('Clean_Data/World_Happiness_2018.csv')\n",
    "\n",
    "WH17 = pd.read_csv('Clean_Data/World_Happiness_2017.csv')\n",
    "\n",
    "WH16 = pd.read_csv('Clean_Data/World_Happiness_2016.csv')\n",
    "\n",
    "WH15 = pd.read_csv('Clean_Data/World_Happiness_2015.csv')\n",
    "\n",
    "Life_Exp = pd.read_csv('Clean_Data/Life_Expectancy_History.csv')\n",
    "\n",
    "CPI = pd.read_csv('Clean_Data/CPI_History.csv')\n",
    "\n",
    "#Mil_Size = pd.read_csv('Clean_Data/GDP_History.csv')\n",
    "\n",
    "GDP_History = pd.read_csv('Clean_Data/GDP_History.csv')\n",
    "\n",
    "Mil_Exp = pd.read_csv('Clean_Data/Military_Expenditure.csv')\n",
    "\n",
    "Free = pd.read_csv('Clean_Data/Freedom_Index_08-17.csv')\n",
    "\n"
   ]
  },
  {
   "cell_type": "code",
   "execution_count": 175,
   "metadata": {
    "scrolled": true
   },
   "outputs": [
    {
     "data": {
      "text/plain": [
       "0.7447237812455884"
      ]
     },
     "execution_count": 175,
     "metadata": {},
     "output_type": "execute_result"
    }
   ],
   "source": [
    "#Important columns extracted from happiness\n",
    "\n",
    "WH201 = WH20[[\"Country\",\"Ladder score\"]].copy()\n",
    "\n",
    "WH191 = WH19[[\"Country\",\"Score\"]].copy()\n",
    "\n",
    "WH181 = WH18[[\"Country\",\"Score\"]].copy()\n",
    "\n",
    "WH171 = WH17[[\"Country\",\"Happiness.Score\"]].copy()\n",
    "\n",
    "WH161 = WH16[[\"Country\",\"Happiness Score\"]].copy()\n",
    "\n",
    "WH151 = WH15[[\"Country\",\"Happiness Score\"]].copy()\n",
    "\n",
    "#Import other factors\n",
    "Life_Exp_df = Life_Exp[[\"Country\",\"2013\",\"2014\",\"2015\",\"2016\",\"2017\",\"2018\"]]\n",
    "Life_Exp_df = Life_Exp_df.rename(columns={\"2013\":\"LE 2013\", \"2014\":\"LE 2014\", \"2015\":\"LE 2015\", \"2016\":\"LE 2016\", \"2017\":\"LE 2017\", \"2018\":\"LE 2018\"})\n",
    "\n",
    "CPI_df = CPI[[\"Country\",\"CPI 2013 Score\", \"CPI 2013 Score\",\"CPI 2014 Score\",\"CPI 2015 Score\",\"CPI 2016 Score\",]]\n",
    "\n",
    "#Mil_Size_df = Mil_Size[[\"Country\", \"2013\",\"2014\",\"2015\",\"2016\",\"2017\",\"2018\"]]\n",
    "#Mil_Size_df = Mil_Size_df.rename(columns={\"2013\":\"MS 2013\", \"2014\":\"MS 2014\", \"2015\":\"MS 2015\", \"2016\":\"MS 2016\", \"2017\":\"MS 2017\", \"2018\":\"MS 2018\"})\n",
    "\n",
    "GDP_History_df = GDP_History[[\"Country\",\"2013\",\"2014\",\"2015\",\"2016\",\"2017\",\"2018\"]]\n",
    "GDP_History_df = GDP_History_df.rename(columns={\"2013\":\"GDP 2013\", \"2014\":\"GDP 2014\", \"2015\":\"GDP 2015\", \"2016\":\"GDP 2016\", \"2017\":\"GDP 2017\", \"2018\":\"GDP 2018\"})\n",
    "\n",
    "Mil_Exp_df = Mil_Exp[[\"Country\",\"2013\",\"2014\",\"2015\",\"2016\",\"2017\",\"2018\"]]\n",
    "Mil_Exp_df = Mil_Exp_df.rename(columns={\"2013\":\"ME 2013\", \"2014\":\"ME 2014\", \"2015\":\"ME 2015\", \"2016\":\"ME 2016\", \"2017\":\"ME 2017\", \"2018\":\"ME 2018\"})\n",
    "\n",
    "# Free_df = Free[[\"Country\",\"2013\",\"2014\",\"2015\",\"2016\",\"2017\"]]\n",
    "# Make Dataframe with happiness years\n",
    "Happy_df = WH201.merge(WH191, how = \"inner\", on=\"Country\")\n",
    "Happy_df = Happy_df.merge(WH181, how = \"inner\", on=\"Country\")\n",
    "Happy_df = Happy_df.merge(WH171, how = \"inner\", on=\"Country\")\n",
    "Happy_df = Happy_df.merge(WH161, how = \"inner\", on=\"Country\")\n",
    "Happy_df = Happy_df.merge(WH151, how = \"inner\", on=\"Country\")\n",
    "Happy_df = Happy_df.rename(columns={\"Ladder score\":\"2018\", \"Score_x\":\"2017\", \"Score_y\":\"2016\", \"Happiness.Score\":\"2015\", \"Happiness Score_x\":\"2014\", \"Happiness Score_y\":\"2013\"})\n",
    "Happy_df = Happy_df[[\"Country\",\"2013\", \"2014\", \"2015\", \"2016\", \"2017\", \"2018\"]]\n",
    "\n",
    "# Make Dataframe with all factors as columns\n",
    "Final_df = Happy_df.merge(Life_Exp_df, how=\"inner\", on = \"Country\")\n",
    "Final_df = Final_df.merge(CPI_df, how=\"inner\", on = \"Country\")\n",
    "#Final_df = Final_df.merge(Mil_Size_df, how=\"inner\", on = \"Country\")\n",
    "Final_df = Final_df.merge(GDP_History_df, how=\"inner\", on = \"Country\")\n",
    "Final_df = Final_df.merge(Mil_Exp_df, how=\"inner\", on = \"Country\")\n",
    "\n",
    "Final_df = Final_df[~Final_df.isin([np.nan, np.inf, -np.inf]).any(1)]\n",
    "Happy_df = Final_df[[\"2013\", \"2014\", \"2015\", \"2016\", \"2017\", \"2018\"]].copy()\n",
    "Country = pd.Series(Final_df[\"Country\"], index = Final_df.index)\n",
    "Final_df = Final_df.drop([\"Country\",\"2013\", \"2014\", \"2015\", \"2016\", \"2017\", \"2018\"], axis=1)\n",
    "\n",
    "X_train, X_test, y_train, y_test = train_test_split(Final_df, Happy_df, test_size=0.33, random_state=42, shuffle = False)\n",
    "CLF = LinearRegression()\n",
    "CLF.fit(X_train, y_train)\n",
    "preds = CLF.predict(X_test)\n",
    "rmse_ = np.sqrt(mean_squared_error(y_test, preds))\n",
    "rmse_\n"
   ]
  },
  {
   "cell_type": "code",
   "execution_count": 165,
   "metadata": {},
   "outputs": [
    {
     "data": {
      "text/plain": [
       "0        Afghanistan\n",
       "1            Albania\n",
       "2            Algeria\n",
       "3          Argentina\n",
       "4            Armenia\n",
       "           ...      \n",
       "132    United States\n",
       "133          Uruguay\n",
       "136          Vietnam\n",
       "138           Zambia\n",
       "139         Zimbabwe\n",
       "Name: Country, Length: 128, dtype: object"
      ]
     },
     "execution_count": 165,
     "metadata": {},
     "output_type": "execute_result"
    }
   ],
   "source": [
    "Country"
   ]
  },
  {
   "cell_type": "code",
   "execution_count": 173,
   "metadata": {},
   "outputs": [],
   "source": [
    "pred = pd.DataFrame(dict(_2013=preds[:,0], _2014 = preds[:,1], _2015 = preds[:,2], _2016 = preds[:,3], _2017 = preds[:,4], _2018 = preds[:,5]))\n",
    "pred[\"Country\"] = Country.loc[X_test.index].values\n",
    "\n",
    "pred.to_csv(\"Predictions.csv\")"
   ]
  },
  {
   "cell_type": "code",
   "execution_count": 154,
   "metadata": {},
   "outputs": [
    {
     "data": {
      "text/plain": [
       "0.6305270053374973"
      ]
     },
     "execution_count": 154,
     "metadata": {},
     "output_type": "execute_result"
    }
   ],
   "source": [
    "rmse_"
   ]
  },
  {
   "cell_type": "code",
   "execution_count": 92,
   "metadata": {},
   "outputs": [
    {
     "data": {
      "text/plain": [
       "(140, 6)"
      ]
     },
     "execution_count": 92,
     "metadata": {},
     "output_type": "execute_result"
    }
   ],
   "source": [
    "Happy_df.shape"
   ]
  },
  {
   "cell_type": "code",
   "execution_count": null,
   "metadata": {},
   "outputs": [],
   "source": []
  },
  {
   "cell_type": "code",
   "execution_count": null,
   "metadata": {},
   "outputs": [],
   "source": []
  },
  {
   "cell_type": "code",
   "execution_count": null,
   "metadata": {},
   "outputs": [],
   "source": []
  }
 ],
 "metadata": {
  "kernelspec": {
   "display_name": "Python [conda env:PythonData]",
   "language": "python",
   "name": "conda-env-PythonData-py"
  },
  "language_info": {
   "codemirror_mode": {
    "name": "ipython",
    "version": 3
   },
   "file_extension": ".py",
   "mimetype": "text/x-python",
   "name": "python",
   "nbconvert_exporter": "python",
   "pygments_lexer": "ipython3",
   "version": "3.6.10"
  }
 },
 "nbformat": 4,
 "nbformat_minor": 4
}
